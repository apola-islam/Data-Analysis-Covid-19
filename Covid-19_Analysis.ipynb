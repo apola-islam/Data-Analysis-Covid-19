{
 "cells": [
  {
   "cell_type": "markdown",
   "metadata": {},
   "source": [
    "\n",
    "#### Reading in the dataset using `pandas`, storing the result as a `DataFrame` called `covid_raw_data`."
   ]
  },
  {
   "cell_type": "code",
   "execution_count": null,
   "metadata": {},
   "outputs": [],
   "source": [
    "pip install pandas\n"
   ]
  },
  {
   "cell_type": "code",
   "execution_count": null,
   "metadata": {},
   "outputs": [],
   "source": [
    "\n",
    "import pandas as pd\n",
    "\n",
    "data = pd.read_csv(\"covid_raw.csv\")\n",
    "display(data)"
   ]
  },
  {
   "cell_type": "markdown",
   "metadata": {},
   "source": [
    "## Cleaning the data\n",
    "\n",
    "\n",
    "\n",
    "1. Extracting the `'State'`, `'Total_cases'`, and `'pop'` columns from `covid_raw_data`, storing the resulting `DataFrame` in a variable called `covid_pop_data`.\n",
    "2. Take `covid_pop_data` and rename the `Total_cases` column to `'Total Cases'` and `'pop'` column to `'Population'`, storing the resulting `DataFrame` in a variable called `covid_renamed_data`.\n",
    "3. Finally, take `covid_renamed_data` and use the `DataFrame.convert_dtypes()` method to automatically convert each column into its most appropriate type, storing the resulting `DataFrame` in a variable called `covid_final_data`."
   ]
  },
  {
   "cell_type": "code",
   "execution_count": null,
   "metadata": {},
   "outputs": [],
   "source": [
    "columns_to_keep = ['State', 'Total_cases', 'pop']\n",
    "\n",
    "covid_pop_data = data[columns_to_keep]\n",
    "covid_pop_data\n",
    "new_columns = {'State':'State','Total_cases':'Total Cases', 'pop':'Population'}\n",
    "covid_renamed_data = covid_pop_data.rename(columns=new_columns)\n",
    "\n",
    "covid_final_data = covid_renamed_data.convert_dtypes()\n"
   ]
  },
  {
   "cell_type": "markdown",
   "metadata": {},
   "source": [
    "## Calculating on a `Series`\n",
    "\n",
    "### Extracting a `Series`\n",
    "\n",
    "Extracting the `'Total Cases'` column from `covid_final_data` as a `Series`, and store it in a variable called `total_cases`."
   ]
  },
  {
   "cell_type": "code",
   "execution_count": null,
   "metadata": {},
   "outputs": [],
   "source": [
    "total_cases = covid_final_data[\"Total Cases\"]\n",
    "total_cases\n"
   ]
  },
  {
   "cell_type": "markdown",
   "metadata": {},
   "source": [
    "## Calculating a summary statistic\n",
    "\n",
    "Using `total_cases` to calculate the *average* number of cases per state, and storing the result in a variable called `average_cases_per_state`.\n",
    "\n"
   ]
  },
  {
   "cell_type": "code",
   "execution_count": null,
   "metadata": {},
   "outputs": [],
   "source": [
    "\n",
    "average_cases_per_state = total_cases.mean()\n",
    "average_cases_per_state\n",
    "\n"
   ]
  },
  {
   "cell_type": "markdown",
   "metadata": {},
   "source": [
    "## Data Transformation\n",
    "\n",
    "### Creating a new `Series`\n",
    "\n",
    "Creating a new `Series` called `case_rates` that contains the percentage of COVID cases within each state relative to that state's population, rounded to two decimal places.\n",
    "\n",
    "\n",
    "To perform this data transformation, I'll extract the two relevant columns from `covid_data_final` and them combine them appropriately."
   ]
  },
  {
   "cell_type": "code",
   "execution_count": null,
   "metadata": {},
   "outputs": [],
   "source": [
    "case_rates = (covid_final_data[\"Total Cases\"]/covid_final_data[\"Population\"]*100).round()\n",
    "case_rates"
   ]
  },
  {
   "cell_type": "markdown",
   "metadata": {},
   "source": [
    "### Add the column to the dataset\n",
    "\n",
    "Adding `case_rates` to `covid_final_data` with the name `\"Case Rate (%)\"`.\n"
   ]
  },
  {
   "cell_type": "code",
   "execution_count": null,
   "metadata": {},
   "outputs": [],
   "source": [
    "covid_final_data [\"Case Rate (%)\"]= case_rates \n",
    "covid_final_data"
   ]
  },
  {
   "cell_type": "markdown",
   "metadata": {},
   "source": [
    "### Filtering the data\n",
    "#### Steps\n",
    "1. Create a boolean `Series` called `is_large` that contains one boolean entry per state, which is `True` if the state's population is greater than 10,000,000, and `False` otherwise.\n",
    "2. Use `is_large` to filter `covid_final_data` to obtain a new `DataFrame` called `covid_large_state_data` which contains only the rows for the large states.\n",
    "3. Repeat Step 1, but to create a `Series` called `is_small` that contains `True` when the state's population is less than 1,000,000, and `False` otherwise.\n",
    "4. Repeat Step 2, but to create a `DataFrame` called `covid_small_state_data` which contains only the rows for the small states."
   ]
  },
  {
   "cell_type": "code",
   "execution_count": null,
   "metadata": {},
   "outputs": [],
   "source": [
    "large_threshold = 10000000\n",
    "small_threshold = 1000000\n",
    "is_large = covid_final_data[\"Population\"] > 10000000\n",
    "covid_large_state_data = covid_final_data[is_large]\n",
    "is_small = covid_final_data[\"Population\"] < 1000000\n",
    "covid_small_state_data = covid_final_data[is_small]"
   ]
  },
  {
   "cell_type": "markdown",
   "metadata": {},
   "source": [
    "### Computing average rates\n",
    "\n",
    "Finally, computing the *average case rate* for the large states (stored in a variable called `large_state_avg_rate`) and the *average case rate* for the small states (stored in a variable called `small_state_avg_rate`)."
   ]
  },
  {
   "cell_type": "code",
   "execution_count": null,
   "metadata": {},
   "outputs": [],
   "source": [
    "large_state_avg_rate = covid_large_state_data[\"Case Rate (%)\"].mean()\n",
    "small_state_avg_rate= covid_small_state_data[\"Case Rate (%)\"].mean()\n",
    "small_state_avg_rate"
   ]
  }
 ],
 "metadata": {
  "kernelspec": {
   "display_name": "Python 3",
   "language": "python",
   "name": "python3"
  },
  "language_info": {
   "codemirror_mode": {
    "name": "ipython",
    "version": 3
   },
   "file_extension": ".py",
   "mimetype": "text/x-python",
   "name": "python",
   "nbconvert_exporter": "python",
   "pygments_lexer": "ipython3",
   "version": "3.9.6"
  },
  "orig_nbformat": 4
 },
 "nbformat": 4,
 "nbformat_minor": 2
}
